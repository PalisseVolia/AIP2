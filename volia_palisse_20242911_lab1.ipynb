{
 "cells": [
  {
   "cell_type": "code",
   "execution_count": 1,
   "metadata": {},
   "outputs": [
    {
     "name": "stdout",
     "output_type": "stream",
     "text": [
      "[[[0. 0.]\n",
      "  [0. 0.]\n",
      "  [0. 0.]]\n",
      "\n",
      " [[0. 0.]\n",
      "  [0. 0.]\n",
      "  [0. 0.]]\n",
      "\n",
      " [[0. 0.]\n",
      "  [0. 0.]\n",
      "  [0. 0.]]\n",
      "\n",
      " [[0. 0.]\n",
      "  [0. 0.]\n",
      "  [0. 0.]]]\n",
      "[[[1. 1. 1. 1.]\n",
      "  [1. 1. 1. 1.]\n",
      "  [1. 1. 1. 1.]]\n",
      "\n",
      " [[1. 1. 1. 1.]\n",
      "  [1. 1. 1. 1.]\n",
      "  [1. 1. 1. 1.]]]\n",
      "[[ 1  2  3  4  5  6  7]\n",
      " [ 8  9 10 11 12 13 14]\n",
      " [15 16 17 18 19 20 21]\n",
      " [22 23 24 25 26 27 28]\n",
      " [29 30 31 32 33 34 35]\n",
      " [36 37 38 39 40 41 42]\n",
      " [43 44 45 46 47 48 49]]\n",
      "[ 3.    8.    1.2  -3.    4.24  9.   10.  ]\n"
     ]
    }
   ],
   "source": [
    "# =============================================================================\n",
    "# Assignment One\n",
    "# =============================================================================\n",
    "\n",
    "import numpy as np\n",
    "\n",
    "zero_arr = np.zeros((4,3,2), dtype=float)\n",
    "print(zero_arr)\n",
    "\n",
    "ones_arr = np.ones((2,3,4), dtype=float)\n",
    "print(ones_arr)\n",
    "\n",
    "square_arr = np.arange(1,50).reshape(7,7)\n",
    "print(square_arr)\n",
    "\n",
    "list_arr = np.array([3, 8, 1.2, -3, 4.24, 9, 10])\n",
    "print(list_arr)"
   ]
  },
  {
   "cell_type": "code",
   "execution_count": 2,
   "metadata": {},
   "outputs": [
    {
     "name": "stdout",
     "output_type": "stream",
     "text": [
      "8.0\n",
      "[ 8.    1.2  -3.    4.24]\n",
      "[[17 18 19]\n",
      " [24 25 26]\n",
      " [31 32 33]]\n",
      "[[ 1  3  5  7]\n",
      " [15 17 19 21]\n",
      " [29 31 33 35]\n",
      " [43 45 47 49]]\n"
     ]
    }
   ],
   "source": [
    "# =============================================================================\n",
    "# Assignment Two\n",
    "# =============================================================================\n",
    "\n",
    "print(list_arr[1])\n",
    "\n",
    "print(list_arr[1:5])\n",
    "\n",
    "center_arr = square_arr[2:5, 2:5]\n",
    "print(center_arr)\n",
    "\n",
    "even_arr = square_arr[::2, ::2]\n",
    "print(even_arr)"
   ]
  },
  {
   "cell_type": "code",
   "execution_count": 3,
   "metadata": {},
   "outputs": [
    {
     "name": "stdout",
     "output_type": "stream",
     "text": [
      "[[5 5 5 5 5]\n",
      " [5 0 0 0 5]\n",
      " [5 0 0 0 5]\n",
      " [5 0 0 0 5]\n",
      " [5 5 5 5 5]]\n"
     ]
    }
   ],
   "source": [
    "# =============================================================================\n",
    "# Assignment Three\n",
    "# =============================================================================\n",
    "\n",
    "five_arr = np.zeros((5,5), dtype=int) + 5\n",
    "five_arr[1:4, 1:4] = 0\n",
    "print(five_arr)"
   ]
  },
  {
   "cell_type": "code",
   "execution_count": 4,
   "metadata": {},
   "outputs": [
    {
     "name": "stdout",
     "output_type": "stream",
     "text": [
      "[[4 5 6]\n",
      " [4 5 6]\n",
      " [4 5 6]]\n",
      "[[ 6  7  8  9 10]\n",
      " [ 6  7  8  9 10]\n",
      " [ 6  7  8  9 10]\n",
      " [ 6  7  8  9 10]\n",
      " [ 6  7  8  9 10]]\n",
      "45 200\n"
     ]
    }
   ],
   "source": [
    "# =============================================================================\n",
    "# Assignment Four\n",
    "# =============================================================================\n",
    "\n",
    "three_arr = np.zeros((3,3), dtype=int) + 3 + np.arange(1,4)\n",
    "n = int(input(\"Enter an integer n: \"))\n",
    "n_arr = np.zeros((n,n), dtype=int) + n + np.arange(1,n+1)\n",
    "print(three_arr)\n",
    "print(n_arr)\n",
    "\n",
    "print(np.sum(three_arr), np.sum(n_arr))"
   ]
  },
  {
   "cell_type": "code",
   "execution_count": 5,
   "metadata": {},
   "outputs": [
    {
     "name": "stdout",
     "output_type": "stream",
     "text": [
      "[[5 5 5 5 5]\n",
      " [5 4 5 6 5]\n",
      " [5 4 5 6 5]\n",
      " [5 4 5 6 5]\n",
      " [5 5 5 5 5]]\n",
      "[[17 18 19]\n",
      " [24 25 26]\n",
      " [31 32 33]\n",
      " [ 4  5  6]\n",
      " [ 4  5  6]\n",
      " [ 4  5  6]]\n",
      "[[[17 18 19]\n",
      "  [24 25 26]\n",
      "  [31 32 33]]\n",
      "\n",
      " [[ 4  5  6]\n",
      "  [ 4  5  6]\n",
      "  [ 4  5  6]]]\n",
      "[[[17 18 19]\n",
      "  [ 4  5  6]]\n",
      "\n",
      " [[24 25 26]\n",
      "  [ 4  5  6]]\n",
      "\n",
      " [[31 32 33]\n",
      "  [ 4  5  6]]]\n"
     ]
    }
   ],
   "source": [
    "# =============================================================================\n",
    "# Assignment Five\n",
    "# =============================================================================\n",
    "\n",
    "five_arr[1:4, 1:4] = three_arr\n",
    "print(five_arr)\n",
    "\n",
    "print(np.concatenate((center_arr, three_arr), axis=0))\n",
    "print(np.concatenate((center_arr, three_arr), axis=0).reshape(2,3,3))\n",
    "print(np.concatenate((center_arr, three_arr), axis=1).reshape(3,2,3))"
   ]
  }
 ],
 "metadata": {
  "kernelspec": {
   "display_name": ".venv",
   "language": "python",
   "name": "python3"
  },
  "language_info": {
   "codemirror_mode": {
    "name": "ipython",
    "version": 3
   },
   "file_extension": ".py",
   "mimetype": "text/x-python",
   "name": "python",
   "nbconvert_exporter": "python",
   "pygments_lexer": "ipython3",
   "version": "3.12.2"
  }
 },
 "nbformat": 4,
 "nbformat_minor": 2
}
